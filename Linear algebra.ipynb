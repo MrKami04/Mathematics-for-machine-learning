{
 "cells": [
  {
   "cell_type": "markdown",
   "id": "92ce0d9f",
   "metadata": {},
   "source": [
    "# linear agebra"
   ]
  },
  {
   "cell_type": "code",
   "execution_count": 5,
   "id": "6f0a93fe",
   "metadata": {},
   "outputs": [],
   "source": [
    "import numpy as np"
   ]
  },
  {
   "cell_type": "markdown",
   "id": "3df81155",
   "metadata": {},
   "source": [
    "### vector addition\n",
    "- use in machine learining for gradient updates or geometric vector operations."
   ]
  },
  {
   "cell_type": "code",
   "execution_count": 7,
   "id": "f7172a69",
   "metadata": {},
   "outputs": [
    {
     "name": "stdout",
     "output_type": "stream",
     "text": [
      "[1 2]\n",
      "[3 4]\n",
      "-----------\n",
      "[4 6]\n"
     ]
    }
   ],
   "source": [
    "\n",
    "vector_u = np.array([1,2])\n",
    "vector_v = np.array([3,4])\n",
    "result = vector_u + vector_v\n",
    "print(vector_u)\n",
    "print(vector_v)\n",
    "print(\"-----------\")\n",
    "print(result)"
   ]
  },
  {
   "cell_type": "markdown",
   "id": "9d535ac1",
   "metadata": {},
   "source": [
    "### scalar multiplication of a vector\n",
    "- used to scalling gradient or controlling vector magnitude(increase its size)"
   ]
  },
  {
   "cell_type": "code",
   "execution_count": 11,
   "id": "ecded9be",
   "metadata": {},
   "outputs": [
    {
     "name": "stdout",
     "output_type": "stream",
     "text": [
      "[ 9 12]\n"
     ]
    }
   ],
   "source": [
    "alpha = 3\n",
    "vector_v = np.array([3,4])\n",
    "result = alpha * vector_v\n",
    "print(result)"
   ]
  },
  {
   "cell_type": "markdown",
   "id": "9ce0d76b",
   "metadata": {},
   "source": [
    "### Dot product\n",
    "- widely used in ML for similarity measures or linear operations."
   ]
  },
  {
   "cell_type": "code",
   "execution_count": 12,
   "id": "f3c6e1e4",
   "metadata": {},
   "outputs": [
    {
     "name": "stdout",
     "output_type": "stream",
     "text": [
      "11\n"
     ]
    }
   ],
   "source": [
    "vector_u = np.array([1,2])\n",
    "vector_v = np.array([3,4])\n",
    "result = np.dot(vector_u,vector_v)\n",
    "print(result)"
   ]
  },
  {
   "cell_type": "markdown",
   "id": "bc1957b7",
   "metadata": {},
   "source": [
    "### Cross Product (3D)\n",
    "- comminly used in physics and computer graphics."
   ]
  },
  {
   "cell_type": "code",
   "execution_count": 13,
   "id": "1d6519c8",
   "metadata": {},
   "outputs": [
    {
     "name": "stdout",
     "output_type": "stream",
     "text": [
      "[0 0 1]\n"
     ]
    }
   ],
   "source": [
    "\n",
    "vector_w = np.array([1, 0, 0])\n",
    "vector_z = np.array([0, 1, 0])\n",
    "result = np.cross(vector_w, vector_z)\n",
    "print(result)"
   ]
  },
  {
   "cell_type": "markdown",
   "id": "432a10c3",
   "metadata": {},
   "source": [
    "### Norm (length) of a vector (Euclidean)\n",
    "- usefulin optimization and distance computations in ML."
   ]
  },
  {
   "cell_type": "code",
   "execution_count": 15,
   "id": "c2a1bccc",
   "metadata": {},
   "outputs": [
    {
     "name": "stdout",
     "output_type": "stream",
     "text": [
      "5.0\n"
     ]
    }
   ],
   "source": [
    "vector_v = np.array([3,4])\n",
    "result = np.linalg.norm(vector_v)\n",
    "print(result)"
   ]
  },
  {
   "cell_type": "markdown",
   "id": "9e28e91e",
   "metadata": {},
   "source": [
    "### Orthogonality condition (dot product is zero)\n",
    "- Orthogonal condition is critical in linear algebra and ML for understanding independence and basis construction."
   ]
  },
  {
   "cell_type": "code",
   "execution_count": 16,
   "id": "0690509b",
   "metadata": {},
   "outputs": [
    {
     "name": "stdout",
     "output_type": "stream",
     "text": [
      "True\n"
     ]
    }
   ],
   "source": [
    "vector_1 =np.array([1,2])\n",
    "vector_2 =np.array([-2, 1])\n",
    "result = np.dot(vector_1, vector_2)\n",
    "is_orthogonal = result == 0\n",
    "print(is_orthogonal)\n"
   ]
  },
  {
   "cell_type": "markdown",
   "id": "1724f6ae",
   "metadata": {},
   "source": [
    "### Matrix addition (A + B)\n",
    "- used in ML for updating weights and biases or aggregating data."
   ]
  },
  {
   "cell_type": "code",
   "execution_count": 17,
   "id": "be91fc22",
   "metadata": {},
   "outputs": [
    {
     "name": "stdout",
     "output_type": "stream",
     "text": [
      "[[ 6  8]\n",
      " [10 12]]\n"
     ]
    }
   ],
   "source": [
    "vector_A = np.array([[1 , 2], [3 , 4]])\n",
    "vector_B = np.array([[5 , 6], [7 , 8]])\n",
    "\n",
    "result = vector_A + vector_B\n",
    "print(result)"
   ]
  },
  {
   "cell_type": "markdown",
   "id": "7c207b69",
   "metadata": {},
   "source": [
    "### Matrix scalar multiplication\n",
    "- useful in ML for adjusting learning rates or normalization."
   ]
  },
  {
   "cell_type": "code",
   "execution_count": 18,
   "id": "7f7b7383",
   "metadata": {},
   "outputs": [
    {
     "name": "stdout",
     "output_type": "stream",
     "text": [
      "[[ 4  8]\n",
      " [12 16]]\n"
     ]
    }
   ],
   "source": [
    "alpha = 4 \n",
    "vector_A = np.array([[1 , 2], [3 , 4]])\n",
    "result = alpha * vector_A\n",
    "print(result)"
   ]
  },
  {
   "cell_type": "markdown",
   "id": "7d6706e3",
   "metadata": {},
   "source": [
    "### Matrix vector multiplication\n",
    "it is fundamental in ML for applying weights to inputs."
   ]
  },
  {
   "cell_type": "code",
   "execution_count": 19,
   "id": "8ae03de5",
   "metadata": {},
   "outputs": [
    {
     "name": "stdout",
     "output_type": "stream",
     "text": [
      "[17 39]\n"
     ]
    }
   ],
   "source": [
    "vector_A = np.array([[1 , 2], [3 , 4]])\n",
    "x = np.array([5 , 6])\n",
    "result = np.dot(vector_A, x)\n",
    "print(result)"
   ]
  },
  {
   "cell_type": "markdown",
   "id": "9221d55e",
   "metadata": {},
   "source": [
    "### Matrix multiplication\n",
    "- used in Ml for layer operations in neural networks."
   ]
  },
  {
   "cell_type": "code",
   "execution_count": 20,
   "id": "7bcec519",
   "metadata": {},
   "outputs": [
    {
     "name": "stdout",
     "output_type": "stream",
     "text": [
      "[[19 22]\n",
      " [43 50]]\n"
     ]
    }
   ],
   "source": [
    "vector_A = np.array([[1 , 2], [3 , 4]])\n",
    "vector_B = np.array([[5 , 6], [7 , 8]])\n",
    "\n",
    "result = np.dot(vector_A , vector_B)\n",
    "print(result)"
   ]
  },
  {
   "cell_type": "markdown",
   "id": "8cec0bfa",
   "metadata": {},
   "source": [
    "### Transpose of a matrix\n",
    "- transpose of matrix flips it over its diagonal, exchanging rows with columns. it is used in ML for switching between data representaions."
   ]
  },
  {
   "cell_type": "code",
   "execution_count": 25,
   "id": "c05d9555",
   "metadata": {},
   "outputs": [
    {
     "name": "stdout",
     "output_type": "stream",
     "text": [
      "before transpose :\n",
      " [[1 2]\n",
      " [3 4]]\n",
      "after transpose :\n",
      " [[1 3]\n",
      " [2 4]]\n"
     ]
    }
   ],
   "source": [
    "vector_A = np.array([[1 , 2], [3 , 4]])\n",
    "print(f\"before transpose :\\n {vector_A}\")\n",
    "result = vector_A . T\n",
    "print(f\"after transpose :\\n {result}\")"
   ]
  },
  {
   "cell_type": "markdown",
   "id": "85805b77",
   "metadata": {},
   "source": [
    "### Determinant of 2 X 2 matrix\n",
    "- determinant measures scalling factor of transformation represented by matrix. it used to determine matrix invertibility."
   ]
  },
  {
   "cell_type": "code",
   "execution_count": 34,
   "id": "695523ed",
   "metadata": {},
   "outputs": [
    {
     "name": "stdout",
     "output_type": "stream",
     "text": [
      "-14.0\n"
     ]
    }
   ],
   "source": [
    "vector_C = np.array([[3 , 8], [4 , 6]])\n",
    "result = np.linalg.det(vector_C)\n",
    "print(round((result),1))"
   ]
  },
  {
   "cell_type": "code",
   "execution_count": null,
   "id": "94593307",
   "metadata": {},
   "outputs": [],
   "source": [
    "# pages 14"
   ]
  }
 ],
 "metadata": {
  "kernelspec": {
   "display_name": "mlatest_env",
   "language": "python",
   "name": "python3"
  },
  "language_info": {
   "codemirror_mode": {
    "name": "ipython",
    "version": 3
   },
   "file_extension": ".py",
   "mimetype": "text/x-python",
   "name": "python",
   "nbconvert_exporter": "python",
   "pygments_lexer": "ipython3",
   "version": "3.13.2"
  }
 },
 "nbformat": 4,
 "nbformat_minor": 5
}
